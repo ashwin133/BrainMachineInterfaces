{
 "cells": [
  {
   "cell_type": "markdown",
   "metadata": {},
   "source": [
    "## used to generate figures for the methods section of the technical milestone report"
   ]
  },
  {
   "cell_type": "code",
   "execution_count": 2,
   "metadata": {},
   "outputs": [],
   "source": [
    "# Functions for color coding schematic\n",
    "\n",
    "from bs4 import BeautifulSoup\n",
    "import plotly.graph_objects as go\n",
    "from svgpathtools import parse_path\n",
    "import numpy as np\n",
    "import sys\n",
    "sys.path.insert(0,'/Users/ashwin/Documents/Y4 project Brain Human Interfaces/General 4th year Github repo/BrainMachineInterfaces')\n",
    "\n",
    "\n",
    "from lib_streamAndRenderDataWorkflows.config_streaming import bodyParts\n",
    "\n",
    "\n",
    "def extractShapesFromSVG(location,parts):\n",
    "    \"\"\"Extracts all shapes from an svg file\n",
    "\n",
    "    Inputs:\n",
    "        @param: location: relative location of svg file\n",
    "        @param: parts: list of names of defined parts that map to shapes (should be in order of values that correspond to color strength\n",
    "        of each shape) Additionally the list of names must be the same as the list of named polygons on the svg file\n",
    "\n",
    "    Returns:\n",
    "        @param: elements: list of lists, each list is the ordered vertices in each polygon, each vertex\n",
    "        is supplied as an index corresponding to the location of the vertex in points\n",
    "        @param: points: List of (x,y) of each point\n",
    "        @param: path_elements - list of raw path data from the svg for all shapes\n",
    "        @param: partMappings - mapping of each shape to its  part (value is -1 if it is just a line)\n",
    "        \"\"\"\n",
    "    \n",
    "    # Load the SVG content\n",
    "    with open(location, 'r') as file:\n",
    "        svg_content = file.read()\n",
    "\n",
    "    # Create a BeautifulSoup object and specify the lxml parser\n",
    "    soup = BeautifulSoup(svg_content, 'html.parser')\n",
    "\n",
    "    # Find all the path elements\n",
    "    path_elements = soup.find_all('path')\n",
    "\n",
    "\n",
    "\n",
    "\n",
    "\n",
    "\n",
    "\n",
    "\n",
    "    # Initialize lists for points and elements\n",
    "    points = [] # holds all points\n",
    "    elements = [] # holds each polygon\n",
    "\n",
    "    # Function to add a point if it's not already in the list and return its index\n",
    "    def add_point(point):\n",
    "        if point not in points:\n",
    "            points.append(point)\n",
    "        return points.index(point)\n",
    "    #print(path_elements[0])\n",
    "    partMappings = []\n",
    "    # describes which polygon each rigid body is responsible, -1 indicates it is just a line\n",
    "\n",
    "    # Iterate through each path (polygon) and update points / elements\n",
    "    for pathRawData in path_elements:\n",
    "        path_string = str(parse_path(pathRawData))\n",
    "        truthList = [parts[i] in path_string for i in range(0,len(parts))]\n",
    "        try:\n",
    "            partMappings.append( truthList.index(1) )\n",
    "        except:\n",
    "            partMappings.append( -1 )\n",
    "        \n",
    "        path_data = parse_path(pathRawData.get('d'))\n",
    "        # Iterate through each line in the path\n",
    "        element_ =  []\n",
    "        for i,line in enumerate(path_data):\n",
    "            # Extract start and end points \n",
    "            start_point = (line.start.real, -line.start.imag)\n",
    "            \n",
    "            end_point = (line.end.real, -line.end.imag)\n",
    "\n",
    "            # Get indices of start and end points\n",
    "            start_index = add_point(start_point)\n",
    "            if i == 0:\n",
    "                element_.append(start_index)\n",
    "            end_index = add_point(end_point)\n",
    "\n",
    "            # Add element as indices of points\n",
    "            element_.append(end_index)\n",
    "        elements.append(element_)\n",
    "\n",
    "    return elements, points, path_elements,partMappings\n",
    "\n",
    "\n",
    "\n",
    "def drawObject(points,elements,colors,partMapping,savePath = \"Composite image.png\",lineColor = '#000000' ):\n",
    "    \"\"\"\n",
    "    This function draws the polygons passed in elements to the screen\n",
    "    requires import plotly.graph_objects as go\n",
    "    and from bs4 import BeautifulSoup\n",
    "\n",
    "\n",
    "    Inputs:\n",
    "        @param points: list of all points (x,y) that polygon vertices form at\n",
    "        @param elements: List of lists corresponding to list of vertices in each polygon, each vertex entry should be the index of the vertex from the list points \n",
    "        @param colors: List of colors for all defined shapes ( not including lines)\n",
    "        @param partMapping: pointer to map each polygon to each color, if not a defined shape, the value is -1\n",
    "        @param (optional) savePath: saves composite image color coded map to savePath location\n",
    "        @param (optional) lineColor: color of any non defined shapes (lines) set as black\n",
    "    \"\"\"\n",
    "    nodes=np.asarray(points).transpose()\n",
    "    shapeIdx = 0\n",
    "    polygons= []\n",
    "    \n",
    "\n",
    "    for k, element in enumerate(elements):\n",
    "        if partMapping[k] != -1:\n",
    "            # Fill shape\n",
    "            colorIdx = partMapping[k]\n",
    "            fillcolor = colors[colorIdx]\n",
    "            shapeIdx += 1\n",
    "        else:\n",
    "            # Fill line\n",
    "            fillcolor = lineColor\n",
    "\n",
    "        polygons.append(go.Scatter(x=nodes[0][element],y=nodes[1][element],\n",
    "            mode='lines',line=dict(color=lineColor, width=2), fill='toself',fillcolor=fillcolor))\n",
    "        \n",
    "    # Now plot data\n",
    "        \n",
    "    axis = dict(showline=False, zeroline=False, showgrid = False,ticks='', showticklabels=False)\n",
    "\n",
    "    fig = go.Figure(polygons)\n",
    "\n",
    "    fig.update_layout(width=600, height=900, showlegend=False,xaxis=axis, yaxis=axis,template=\"none\")\n",
    "    if savePath != None:    \n",
    "        fig.write_image(savePath)\n",
    "    fig.show()\n",
    "\n",
    "def get_color_hex(value, light_color, dark_color):\n",
    "    \"\"\"Function returns hexadecimal color based on value between 0 and 1.\"\"\"\n",
    "    # Check value is bounded first\n",
    "    value = max(0, min(1, value))\n",
    "\n",
    "    # Interpolate between light and dark colors\n",
    "    r = int(light_color[0] + value * (dark_color[0] - light_color[0]))\n",
    "    g = int(light_color[1] + value * (dark_color[1] - light_color[1]))\n",
    "    b = int(light_color[2] + value * (dark_color[2] - light_color[2]))\n",
    "\n",
    "    # Return as hexadecimal\n",
    "    return '#{:02x}{:02x}{:02x}'.format(r, g, b)\n",
    "    \n",
    "\n",
    "\n",
    "\n",
    "\n",
    "\n"
   ]
  },
  {
   "cell_type": "code",
   "execution_count": 7,
   "metadata": {},
   "outputs": [
    {
     "name": "stdout",
     "output_type": "stream",
     "text": [
      "['Pelvis', 'Ab', 'Chest', 'Neck', 'Head', 'LShoulder', 'LUArm', 'LFArm', 'LHand', 'RShoulder', 'RUArm', 'RFArm', 'RHand', 'LThigh', 'LShin', 'LFoot', 'RThigh', 'RShin', 'RFoot']\n"
     ]
    }
   ],
   "source": [
    "saveGameLocation =  \"../PointerExperimentData/Ashwin_12_01__19_57_trial1\" \n",
    "from lib_streamAndRenderDataWorkflows.config_streaming import bodyParts\n",
    "print(bodyParts)"
   ]
  },
  {
   "cell_type": "code",
   "execution_count": 14,
   "metadata": {},
   "outputs": [
    {
     "data": {
      "application/vnd.plotly.v1+json": {
       "config": {
        "plotlyServerURL": "https://plot.ly"
       },
       "data": [
        {
         "fill": "toself",
         "fillcolor": "#000000",
         "line": {
          "color": "#000000",
          "width": 2
         },
         "mode": "lines",
         "type": "scatter",
         "x": [
          107.48111,
          110.45762,
          112.84765
         ],
         "y": [
          -167.36919,
          -176.54128,
          -184.019
         ]
        },
        {
         "fill": "toself",
         "fillcolor": "#f50505",
         "line": {
          "color": "#000000",
          "width": 2
         },
         "mode": "lines",
         "type": "scatter",
         "x": [
          89.868233,
          100.03817,
          100.03817,
          89.868233,
          89.868233
         ],
         "y": [
          -73.578049,
          -73.578049,
          -88.360854,
          -88.360854,
          -73.578049
         ]
        },
        {
         "fill": "toself",
         "fillcolor": "#f50505",
         "line": {
          "color": "#000000",
          "width": 2
         },
         "mode": "lines",
         "type": "scatter",
         "x": [
          61.028416,
          70,
          58.592682,
          49.681937,
          61.028416
         ],
         "y": [
          -95.345941,
          -100,
          -122.16136,
          -117.62277,
          -95.345941
         ]
        },
        {
         "fill": "toself",
         "fillcolor": "#f50505",
         "line": {
          "color": "#000000",
          "width": 2
         },
         "mode": "lines",
         "type": "scatter",
         "x": [
          120.03588,
          128.99521000000001,
          140.83387000000002,
          132.02619,
          120.03588
         ],
         "y": [
          -99.977349,
          -95.291285,
          -117.31049,
          -122.04598,
          -99.977349
         ]
        },
        {
         "fill": "toself",
         "fillcolor": "#f50505",
         "line": {
          "color": "#000000",
          "width": 2
         },
         "mode": "lines",
         "type": "scatter",
         "x": [
          47.073663,
          56.045247,
          44.637929,
          35.727184,
          47.073663
         ],
         "y": [
          -122.38751,
          -127.04157000000001,
          -149.20293,
          -144.66434,
          -122.38751
         ]
        },
        {
         "fill": "toself",
         "fillcolor": "#f50505",
         "line": {
          "color": "#000000",
          "width": 2
         },
         "mode": "lines",
         "type": "scatter",
         "x": [
          134.46518,
          143.40702,
          155.32744,
          146.53743,
          134.46518
         ],
         "y": [
          -126.73814,
          -122.01882,
          -143.99387000000002,
          -148.76206000000002,
          -126.73814
         ]
        },
        {
         "fill": "toself",
         "fillcolor": "#f50505",
         "line": {
          "color": "#000000",
          "width": 2
         },
         "mode": "lines",
         "type": "scatter",
         "x": [
          80,
          110,
          110,
          80,
          80
         ],
         "y": [
          -132,
          -132,
          -153,
          -153,
          -132
         ]
        },
        {
         "fill": "toself",
         "fillcolor": "#000000",
         "line": {
          "color": "#000000",
          "width": 2
         },
         "mode": "lines",
         "type": "scatter",
         "x": [
          65.406285,
          71.352311,
          71.352311
         ],
         "y": [
          -97.571008,
          -94.949138,
          -94.949138
         ]
        },
        {
         "fill": "toself",
         "fillcolor": "#000000",
         "line": {
          "color": "#000000",
          "width": 2
         },
         "mode": "lines",
         "type": "scatter",
         "x": [
          124.44939,
          118.5963,
          118.5963
         ],
         "y": [
          -97.728017,
          -94.904737,
          -94.904737
         ]
        },
        {
         "fill": "toself",
         "fillcolor": "#f50505",
         "line": {
          "color": "#000000",
          "width": 2
         },
         "mode": "lines",
         "type": "scatter",
         "x": [
          80,
          85,
          105,
          110,
          80
         ],
         "y": [
          -160,
          -175,
          -175,
          -160,
          -160
         ]
        },
        {
         "fill": "toself",
         "fillcolor": "#000000",
         "line": {
          "color": "#000000",
          "width": 2
         },
         "mode": "lines",
         "type": "scatter",
         "x": [
          40.083681,
          38.924835,
          37.972834
         ],
         "y": [
          -146.78902,
          -148.96759,
          -150.73598
         ]
        },
        {
         "fill": "toself",
         "fillcolor": "#000000",
         "line": {
          "color": "#000000",
          "width": 2
         },
         "mode": "lines",
         "type": "scatter",
         "x": [
          150.71751,
          151.96955,
          152.97928
         ],
         "y": [
          -146.36322,
          -148.57195000000002,
          -150.37385
         ]
        },
        {
         "fill": "toself",
         "fillcolor": "#000000",
         "line": {
          "color": "#000000",
          "width": 2
         },
         "mode": "lines",
         "type": "scatter",
         "x": [
          95.001098,
          95.001098
         ],
         "y": [
          -69.881817,
          -73.683644
         ]
        },
        {
         "fill": "toself",
         "fillcolor": "#000000",
         "line": {
          "color": "#000000",
          "width": 2
         },
         "mode": "lines",
         "type": "scatter",
         "x": [
          95.01491,
          95.01491
         ],
         "y": [
          -88.370831,
          -90.087273
         ]
        },
        {
         "fill": "toself",
         "fillcolor": "#000000",
         "line": {
          "color": "#000000",
          "width": 2
         },
         "mode": "lines",
         "type": "scatter",
         "x": [
          95.004643,
          95.004643
         ],
         "y": [
          -124.68179,
          -132.06331
         ]
        },
        {
         "fill": "toself",
         "fillcolor": "#000000",
         "line": {
          "color": "#000000",
          "width": 2
         },
         "mode": "lines",
         "type": "scatter",
         "x": [
          136.27361,
          137.7594,
          138.95764
         ],
         "y": [
          -119.61809,
          -122.18177,
          -124.27323
         ]
        },
        {
         "fill": "toself",
         "fillcolor": "#000000",
         "line": {
          "color": "#000000",
          "width": 2
         },
         "mode": "lines",
         "type": "scatter",
         "x": [
          94.998373,
          94.998373
         ],
         "y": [
          -152.9691,
          -160.04331
         ]
        },
        {
         "fill": "toself",
         "fillcolor": "#000000",
         "line": {
          "color": "#000000",
          "width": 2
         },
         "mode": "lines",
         "type": "scatter",
         "x": [
          54.069722,
          52.680819,
          51.539825
         ],
         "y": [
          -119.77689,
          -122.44125,
          -124.60396
         ]
        },
        {
         "fill": "toself",
         "fillcolor": "#f50505",
         "line": {
          "color": "#000000",
          "width": 2
         },
         "mode": "lines",
         "type": "scatter",
         "x": [
          108.25867,
          118.04965999999999,
          124.56352999999999,
          114.90894999999999,
          108.25867
         ],
         "y": [
          -185.3602,
          -182.8373,
          -206.97376,
          -209.57933,
          -185.3602
         ]
        },
        {
         "fill": "toself",
         "fillcolor": "#f50505",
         "line": {
          "color": "#000000",
          "width": 2
         },
         "mode": "lines",
         "type": "scatter",
         "x": [
          116.13227,
          125.88302,
          132.76983,
          123.15675000000002,
          116.13227
         ],
         "y": [
          -213.89456,
          -211.22036,
          -235.25307,
          -238.00782,
          -213.89456
         ]
        },
        {
         "fill": "toself",
         "fillcolor": "#000000",
         "line": {
          "color": "#000000",
          "width": 2
         },
         "mode": "lines",
         "type": "scatter",
         "x": [
          82.421348,
          80.22262699999999,
          78.39873499999999
         ],
         "y": [
          -167.19964,
          -176.58858999999998,
          -184.22415999999998
         ]
        },
        {
         "fill": "toself",
         "fillcolor": "#f50505",
         "line": {
          "color": "#000000",
          "width": 2
         },
         "mode": "lines",
         "type": "scatter",
         "x": [
          73.463098,
          83.253514,
          77.286431,
          67.57545599999999,
          73.463098
         ],
         "y": [
          -182.91609,
          -185.44122,
          -209.71865,
          -207.33183,
          -182.91609
         ]
        },
        {
         "fill": "toself",
         "fillcolor": "#f50505",
         "line": {
          "color": "#000000",
          "width": 2
         },
         "mode": "lines",
         "type": "scatter",
         "x": [
          66.396401,
          76.18681699999999,
          70.21973499999999,
          60.50875999999999,
          66.396401
         ],
         "y": [
          -211.82961,
          -214.35474,
          -238.63215,
          -236.24534,
          -211.82961
         ]
        },
        {
         "fill": "toself",
         "fillcolor": "#000000",
         "line": {
          "color": "#000000",
          "width": 2
         },
         "mode": "lines",
         "type": "scatter",
         "x": [
          72.412142,
          71.71050600000001,
          71.128482
         ],
         "y": [
          -208.34783,
          -211.03061,
          -213.21239
         ]
        },
        {
         "fill": "toself",
         "fillcolor": "#000000",
         "line": {
          "color": "#000000",
          "width": 2
         },
         "mode": "lines",
         "type": "scatter",
         "x": [
          119.69298,
          120.43122000000001,
          121.02248000000002
         ],
         "y": [
          -208.14064,
          -210.65257,
          -212.7
         ]
        },
        {
         "fill": "toself",
         "fillcolor": "#f50505",
         "line": {
          "color": "#000000",
          "width": 2
         },
         "mode": "lines",
         "type": "scatter",
         "x": [
          132.55933,
          135.0228,
          152.32711999999998,
          149.96945999999997,
          132.55933
         ],
         "y": [
          -247.14989,
          -239.63975,
          -245.98999999999998,
          -253.44728999999998,
          -247.14989
         ]
        },
        {
         "fill": "toself",
         "fillcolor": "#000000",
         "line": {
          "color": "#000000",
          "width": 2
         },
         "mode": "lines",
         "type": "scatter",
         "x": [
          127.57021,
          130.90434,
          133.57465
         ],
         "y": [
          -236.77627,
          -240.73785,
          -243.96684000000002
         ]
        },
        {
         "fill": "toself",
         "fillcolor": "#f50505",
         "line": {
          "color": "#000000",
          "width": 2
         },
         "mode": "lines",
         "type": "scatter",
         "x": [
          58.018241,
          60.990451,
          43.680111,
          40.661300999999995,
          58.018241
         ],
         "y": [
          -239.68879,
          -247.01251000000002,
          -253.34635000000003,
          -246.13133000000002,
          -239.68879
         ]
        },
        {
         "fill": "toself",
         "fillcolor": "#000000",
         "line": {
          "color": "#000000",
          "width": 2
         },
         "mode": "lines",
         "type": "scatter",
         "x": [
          65.414825,
          62.13010799999999,
          59.444278999999995
         ],
         "y": [
          -237.40569,
          -240.68592999999998,
          -243.32142
         ]
        },
        {
         "fill": "toself",
         "fillcolor": "#f50505",
         "line": {
          "color": "#000000",
          "width": 2
         },
         "mode": "lines",
         "type": "scatter",
         "x": [
          84.956471,
          79.917838,
          79.917838,
          79.917838,
          82.975581,
          86.03332900000001,
          94.93117900000001,
          103.82903000000002,
          106.88593000000002,
          109.94280000000002,
          109.94280000000002,
          109.94280000000002,
          104.90416000000002,
          99.86551600000001,
          94.93031600000002,
          89.99510200000002,
          84.956471
         ],
         "y": [
          -64.856338,
          -59.760703,
          -46.701769,
          -33.642834,
          -30.585952,
          -27.529069,
          -27.529069,
          -27.529069,
          -30.586813,
          -33.644557999999996,
          -46.702628999999995,
          -59.76070299999999,
          -64.856338,
          -69.951966,
          -69.951966,
          -69.951966,
          -64.856338
         ]
        },
        {
         "fill": "toself",
         "fillcolor": "#f50505",
         "line": {
          "color": "#000000",
          "width": 2
         },
         "mode": "lines",
         "type": "scatter",
         "x": [
          33.563027,
          42.532833,
          37.51123199999999,
          28.541424999999993,
          33.563027
         ],
         "y": [
          -148.34435,
          -153.26748999999998,
          -162.41667999999999,
          -157.49354,
          -148.34435
         ]
        },
        {
         "fill": "toself",
         "fillcolor": "#f50505",
         "line": {
          "color": "#000000",
          "width": 2
         },
         "mode": "lines",
         "type": "scatter",
         "x": [
          70,
          120,
          110,
          80,
          70
         ],
         "y": [
          -90,
          -90,
          -125,
          -125,
          -90
         ]
        },
        {
         "fill": "toself",
         "fillcolor": "#f50505",
         "line": {
          "color": "#000000",
          "width": 2
         },
         "mode": "lines",
         "type": "scatter",
         "x": [
          70,
          85,
          85,
          72.85434,
          70
         ],
         "y": [
          -90,
          -90,
          -100,
          -100,
          -90
         ]
        },
        {
         "fill": "toself",
         "fillcolor": "#f50505",
         "line": {
          "color": "#000000",
          "width": 2
         },
         "mode": "lines",
         "type": "scatter",
         "x": [
          104.95347,
          120,
          117.18673,
          104.95347,
          104.95347
         ],
         "y": [
          -90,
          -90,
          -100,
          -100,
          -90
         ]
        },
        {
         "fill": "toself",
         "fillcolor": "#ffffff",
         "line": {
          "color": "#000000",
          "width": 2
         },
         "mode": "lines",
         "type": "scatter",
         "x": [
          148.88306,
          157.92294,
          162.87361,
          153.83373,
          148.88306
         ],
         "y": [
          -152.67858,
          -147.82499,
          -157.04567,
          -161.89926,
          -152.67858
         ]
        }
       ],
       "layout": {
        "height": 900,
        "showlegend": false,
        "template": {
         "data": {
          "scatter": [
           {
            "type": "scatter"
           }
          ]
         }
        },
        "width": 600,
        "xaxis": {
         "showgrid": false,
         "showline": false,
         "showticklabels": false,
         "ticks": "",
         "zeroline": false
        },
        "yaxis": {
         "showgrid": false,
         "showline": false,
         "showticklabels": false,
         "ticks": "",
         "zeroline": false
        }
       }
      }
     },
     "metadata": {},
     "output_type": "display_data"
    }
   ],
   "source": [
    "# Code for color code Plot for Decoder A\n",
    "decoderAColor = (245,5,5) # (RGB) or F50505 (Hex)\n",
    "decoderAColorPlt = (245/255,5/255,5/255) # (RGB) or F50505 (Hex)\n",
    "white =  (255, 255, 255) # White\n",
    "# Set location and import body parts ( list of names of bodies that coefficients correspond to)\n",
    "location = '../../body.svg'\n",
    "\n",
    "coefficients  = [\n",
    "    1,1,1,1,1, # Central body parts\n",
    "    1,1,1,1, # upper left\n",
    "    1,1,1,0, # upper right\n",
    "    1,1,1, # lower left\n",
    "    1,1,1 # lower right\n",
    "]\n",
    "\n",
    "# Extract shape data from the svg file\n",
    "elements,points,pathElements,bodyPartMapping = extractShapesFromSVG(location=location,parts=bodyParts)\n",
    "\n",
    "# Set colours for each coefficient\n",
    "colours = [get_color_hex(i,white,decoderAColor) for i in coefficients]\n",
    "\n",
    "# Draw the object \n",
    "drawObject(points,elements,colours,bodyPartMapping,saveGameLocation+\"_bodySchematic_decoderA_preAnalysis.svg\")\n",
    "#print(coefficients_A_X)\n"
   ]
  },
  {
   "cell_type": "code",
   "execution_count": 15,
   "metadata": {},
   "outputs": [
    {
     "data": {
      "application/vnd.plotly.v1+json": {
       "config": {
        "plotlyServerURL": "https://plot.ly"
       },
       "data": [
        {
         "fill": "toself",
         "fillcolor": "#000000",
         "line": {
          "color": "#000000",
          "width": 2
         },
         "mode": "lines",
         "type": "scatter",
         "x": [
          107.48111,
          110.45762,
          112.84765
         ],
         "y": [
          -167.36919,
          -176.54128,
          -184.019
         ]
        },
        {
         "fill": "toself",
         "fillcolor": "#3505f5",
         "line": {
          "color": "#000000",
          "width": 2
         },
         "mode": "lines",
         "type": "scatter",
         "x": [
          89.868233,
          100.03817,
          100.03817,
          89.868233,
          89.868233
         ],
         "y": [
          -73.578049,
          -73.578049,
          -88.360854,
          -88.360854,
          -73.578049
         ]
        },
        {
         "fill": "toself",
         "fillcolor": "#3505f5",
         "line": {
          "color": "#000000",
          "width": 2
         },
         "mode": "lines",
         "type": "scatter",
         "x": [
          61.028416,
          70,
          58.592682,
          49.681937,
          61.028416
         ],
         "y": [
          -95.345941,
          -100,
          -122.16136,
          -117.62277,
          -95.345941
         ]
        },
        {
         "fill": "toself",
         "fillcolor": "#ffffff",
         "line": {
          "color": "#000000",
          "width": 2
         },
         "mode": "lines",
         "type": "scatter",
         "x": [
          120.03588,
          128.99521000000001,
          140.83387000000002,
          132.02619,
          120.03588
         ],
         "y": [
          -99.977349,
          -95.291285,
          -117.31049,
          -122.04598,
          -99.977349
         ]
        },
        {
         "fill": "toself",
         "fillcolor": "#3505f5",
         "line": {
          "color": "#000000",
          "width": 2
         },
         "mode": "lines",
         "type": "scatter",
         "x": [
          47.073663,
          56.045247,
          44.637929,
          35.727184,
          47.073663
         ],
         "y": [
          -122.38751,
          -127.04157000000001,
          -149.20293,
          -144.66434,
          -122.38751
         ]
        },
        {
         "fill": "toself",
         "fillcolor": "#ffffff",
         "line": {
          "color": "#000000",
          "width": 2
         },
         "mode": "lines",
         "type": "scatter",
         "x": [
          134.46518,
          143.40702,
          155.32744,
          146.53743,
          134.46518
         ],
         "y": [
          -126.73814,
          -122.01882,
          -143.99387000000002,
          -148.76206000000002,
          -126.73814
         ]
        },
        {
         "fill": "toself",
         "fillcolor": "#3505f5",
         "line": {
          "color": "#000000",
          "width": 2
         },
         "mode": "lines",
         "type": "scatter",
         "x": [
          80,
          110,
          110,
          80,
          80
         ],
         "y": [
          -132,
          -132,
          -153,
          -153,
          -132
         ]
        },
        {
         "fill": "toself",
         "fillcolor": "#000000",
         "line": {
          "color": "#000000",
          "width": 2
         },
         "mode": "lines",
         "type": "scatter",
         "x": [
          65.406285,
          71.352311,
          71.352311
         ],
         "y": [
          -97.571008,
          -94.949138,
          -94.949138
         ]
        },
        {
         "fill": "toself",
         "fillcolor": "#000000",
         "line": {
          "color": "#000000",
          "width": 2
         },
         "mode": "lines",
         "type": "scatter",
         "x": [
          124.44939,
          118.5963,
          118.5963
         ],
         "y": [
          -97.728017,
          -94.904737,
          -94.904737
         ]
        },
        {
         "fill": "toself",
         "fillcolor": "#3505f5",
         "line": {
          "color": "#000000",
          "width": 2
         },
         "mode": "lines",
         "type": "scatter",
         "x": [
          80,
          85,
          105,
          110,
          80
         ],
         "y": [
          -160,
          -175,
          -175,
          -160,
          -160
         ]
        },
        {
         "fill": "toself",
         "fillcolor": "#000000",
         "line": {
          "color": "#000000",
          "width": 2
         },
         "mode": "lines",
         "type": "scatter",
         "x": [
          40.083681,
          38.924835,
          37.972834
         ],
         "y": [
          -146.78902,
          -148.96759,
          -150.73598
         ]
        },
        {
         "fill": "toself",
         "fillcolor": "#000000",
         "line": {
          "color": "#000000",
          "width": 2
         },
         "mode": "lines",
         "type": "scatter",
         "x": [
          150.71751,
          151.96955,
          152.97928
         ],
         "y": [
          -146.36322,
          -148.57195000000002,
          -150.37385
         ]
        },
        {
         "fill": "toself",
         "fillcolor": "#000000",
         "line": {
          "color": "#000000",
          "width": 2
         },
         "mode": "lines",
         "type": "scatter",
         "x": [
          95.001098,
          95.001098
         ],
         "y": [
          -69.881817,
          -73.683644
         ]
        },
        {
         "fill": "toself",
         "fillcolor": "#000000",
         "line": {
          "color": "#000000",
          "width": 2
         },
         "mode": "lines",
         "type": "scatter",
         "x": [
          95.01491,
          95.01491
         ],
         "y": [
          -88.370831,
          -90.087273
         ]
        },
        {
         "fill": "toself",
         "fillcolor": "#000000",
         "line": {
          "color": "#000000",
          "width": 2
         },
         "mode": "lines",
         "type": "scatter",
         "x": [
          95.004643,
          95.004643
         ],
         "y": [
          -124.68179,
          -132.06331
         ]
        },
        {
         "fill": "toself",
         "fillcolor": "#000000",
         "line": {
          "color": "#000000",
          "width": 2
         },
         "mode": "lines",
         "type": "scatter",
         "x": [
          136.27361,
          137.7594,
          138.95764
         ],
         "y": [
          -119.61809,
          -122.18177,
          -124.27323
         ]
        },
        {
         "fill": "toself",
         "fillcolor": "#000000",
         "line": {
          "color": "#000000",
          "width": 2
         },
         "mode": "lines",
         "type": "scatter",
         "x": [
          94.998373,
          94.998373
         ],
         "y": [
          -152.9691,
          -160.04331
         ]
        },
        {
         "fill": "toself",
         "fillcolor": "#000000",
         "line": {
          "color": "#000000",
          "width": 2
         },
         "mode": "lines",
         "type": "scatter",
         "x": [
          54.069722,
          52.680819,
          51.539825
         ],
         "y": [
          -119.77689,
          -122.44125,
          -124.60396
         ]
        },
        {
         "fill": "toself",
         "fillcolor": "#3505f5",
         "line": {
          "color": "#000000",
          "width": 2
         },
         "mode": "lines",
         "type": "scatter",
         "x": [
          108.25867,
          118.04965999999999,
          124.56352999999999,
          114.90894999999999,
          108.25867
         ],
         "y": [
          -185.3602,
          -182.8373,
          -206.97376,
          -209.57933,
          -185.3602
         ]
        },
        {
         "fill": "toself",
         "fillcolor": "#3505f5",
         "line": {
          "color": "#000000",
          "width": 2
         },
         "mode": "lines",
         "type": "scatter",
         "x": [
          116.13227,
          125.88302,
          132.76983,
          123.15675000000002,
          116.13227
         ],
         "y": [
          -213.89456,
          -211.22036,
          -235.25307,
          -238.00782,
          -213.89456
         ]
        },
        {
         "fill": "toself",
         "fillcolor": "#000000",
         "line": {
          "color": "#000000",
          "width": 2
         },
         "mode": "lines",
         "type": "scatter",
         "x": [
          82.421348,
          80.22262699999999,
          78.39873499999999
         ],
         "y": [
          -167.19964,
          -176.58858999999998,
          -184.22415999999998
         ]
        },
        {
         "fill": "toself",
         "fillcolor": "#3505f5",
         "line": {
          "color": "#000000",
          "width": 2
         },
         "mode": "lines",
         "type": "scatter",
         "x": [
          73.463098,
          83.253514,
          77.286431,
          67.57545599999999,
          73.463098
         ],
         "y": [
          -182.91609,
          -185.44122,
          -209.71865,
          -207.33183,
          -182.91609
         ]
        },
        {
         "fill": "toself",
         "fillcolor": "#3505f5",
         "line": {
          "color": "#000000",
          "width": 2
         },
         "mode": "lines",
         "type": "scatter",
         "x": [
          66.396401,
          76.18681699999999,
          70.21973499999999,
          60.50875999999999,
          66.396401
         ],
         "y": [
          -211.82961,
          -214.35474,
          -238.63215,
          -236.24534,
          -211.82961
         ]
        },
        {
         "fill": "toself",
         "fillcolor": "#000000",
         "line": {
          "color": "#000000",
          "width": 2
         },
         "mode": "lines",
         "type": "scatter",
         "x": [
          72.412142,
          71.71050600000001,
          71.128482
         ],
         "y": [
          -208.34783,
          -211.03061,
          -213.21239
         ]
        },
        {
         "fill": "toself",
         "fillcolor": "#000000",
         "line": {
          "color": "#000000",
          "width": 2
         },
         "mode": "lines",
         "type": "scatter",
         "x": [
          119.69298,
          120.43122000000001,
          121.02248000000002
         ],
         "y": [
          -208.14064,
          -210.65257,
          -212.7
         ]
        },
        {
         "fill": "toself",
         "fillcolor": "#3505f5",
         "line": {
          "color": "#000000",
          "width": 2
         },
         "mode": "lines",
         "type": "scatter",
         "x": [
          132.55933,
          135.0228,
          152.32711999999998,
          149.96945999999997,
          132.55933
         ],
         "y": [
          -247.14989,
          -239.63975,
          -245.98999999999998,
          -253.44728999999998,
          -247.14989
         ]
        },
        {
         "fill": "toself",
         "fillcolor": "#000000",
         "line": {
          "color": "#000000",
          "width": 2
         },
         "mode": "lines",
         "type": "scatter",
         "x": [
          127.57021,
          130.90434,
          133.57465
         ],
         "y": [
          -236.77627,
          -240.73785,
          -243.96684000000002
         ]
        },
        {
         "fill": "toself",
         "fillcolor": "#3505f5",
         "line": {
          "color": "#000000",
          "width": 2
         },
         "mode": "lines",
         "type": "scatter",
         "x": [
          58.018241,
          60.990451,
          43.680111,
          40.661300999999995,
          58.018241
         ],
         "y": [
          -239.68879,
          -247.01251000000002,
          -253.34635000000003,
          -246.13133000000002,
          -239.68879
         ]
        },
        {
         "fill": "toself",
         "fillcolor": "#000000",
         "line": {
          "color": "#000000",
          "width": 2
         },
         "mode": "lines",
         "type": "scatter",
         "x": [
          65.414825,
          62.13010799999999,
          59.444278999999995
         ],
         "y": [
          -237.40569,
          -240.68592999999998,
          -243.32142
         ]
        },
        {
         "fill": "toself",
         "fillcolor": "#3505f5",
         "line": {
          "color": "#000000",
          "width": 2
         },
         "mode": "lines",
         "type": "scatter",
         "x": [
          84.956471,
          79.917838,
          79.917838,
          79.917838,
          82.975581,
          86.03332900000001,
          94.93117900000001,
          103.82903000000002,
          106.88593000000002,
          109.94280000000002,
          109.94280000000002,
          109.94280000000002,
          104.90416000000002,
          99.86551600000001,
          94.93031600000002,
          89.99510200000002,
          84.956471
         ],
         "y": [
          -64.856338,
          -59.760703,
          -46.701769,
          -33.642834,
          -30.585952,
          -27.529069,
          -27.529069,
          -27.529069,
          -30.586813,
          -33.644557999999996,
          -46.702628999999995,
          -59.76070299999999,
          -64.856338,
          -69.951966,
          -69.951966,
          -69.951966,
          -64.856338
         ]
        },
        {
         "fill": "toself",
         "fillcolor": "#3505f5",
         "line": {
          "color": "#000000",
          "width": 2
         },
         "mode": "lines",
         "type": "scatter",
         "x": [
          33.563027,
          42.532833,
          37.51123199999999,
          28.541424999999993,
          33.563027
         ],
         "y": [
          -148.34435,
          -153.26748999999998,
          -162.41667999999999,
          -157.49354,
          -148.34435
         ]
        },
        {
         "fill": "toself",
         "fillcolor": "#3505f5",
         "line": {
          "color": "#000000",
          "width": 2
         },
         "mode": "lines",
         "type": "scatter",
         "x": [
          70,
          120,
          110,
          80,
          70
         ],
         "y": [
          -90,
          -90,
          -125,
          -125,
          -90
         ]
        },
        {
         "fill": "toself",
         "fillcolor": "#3505f5",
         "line": {
          "color": "#000000",
          "width": 2
         },
         "mode": "lines",
         "type": "scatter",
         "x": [
          70,
          85,
          85,
          72.85434,
          70
         ],
         "y": [
          -90,
          -90,
          -100,
          -100,
          -90
         ]
        },
        {
         "fill": "toself",
         "fillcolor": "#ffffff",
         "line": {
          "color": "#000000",
          "width": 2
         },
         "mode": "lines",
         "type": "scatter",
         "x": [
          104.95347,
          120,
          117.18673,
          104.95347,
          104.95347
         ],
         "y": [
          -90,
          -90,
          -100,
          -100,
          -90
         ]
        },
        {
         "fill": "toself",
         "fillcolor": "#ffffff",
         "line": {
          "color": "#000000",
          "width": 2
         },
         "mode": "lines",
         "type": "scatter",
         "x": [
          148.88306,
          157.92294,
          162.87361,
          153.83373,
          148.88306
         ],
         "y": [
          -152.67858,
          -147.82499,
          -157.04567,
          -161.89926,
          -152.67858
         ]
        }
       ],
       "layout": {
        "height": 900,
        "showlegend": false,
        "template": {
         "data": {
          "scatter": [
           {
            "type": "scatter"
           }
          ]
         }
        },
        "width": 600,
        "xaxis": {
         "showgrid": false,
         "showline": false,
         "showticklabels": false,
         "ticks": "",
         "zeroline": false
        },
        "yaxis": {
         "showgrid": false,
         "showline": false,
         "showticklabels": false,
         "ticks": "",
         "zeroline": false
        }
       }
      }
     },
     "metadata": {},
     "output_type": "display_data"
    }
   ],
   "source": [
    "# Code for color code Plot for Decoder B\n",
    "decoderBColor = (53,5,245) # (RGB) or #3505F5 (Hex)\n",
    "decoderBColorPlt = (53/255,5/255,245/255) # (RGB) or #3505F5 (Hex)\n",
    "white =  (255, 255, 255) # White\n",
    "# Set location and import body parts ( list of names of bodies that coefficients correspond to)\n",
    "location = '../../body.svg'\n",
    "\n",
    "coefficients  = [\n",
    "    1,1,1,1,1, # Central body parts\n",
    "    1,1,1,1, # upper left\n",
    "    0,0,0,0, # upper right\n",
    "    1,1,1, # lower left\n",
    "    1,1,1 # lower right\n",
    "]\n",
    "\n",
    "# Extract shape data from the svg file\n",
    "elements,points,pathElements,bodyPartMapping = extractShapesFromSVG(location=location,parts=bodyParts)\n",
    "\n",
    "# Set colours for each coefficient\n",
    "colours = [get_color_hex(i,white,decoderBColor) for i in coefficients]\n",
    "\n",
    "# Draw the object \n",
    "drawObject(points,elements,colours,bodyPartMapping,saveGameLocation+\"_bodySchematic_decoderB_preAnalysis.svg\")\n",
    "#print(coefficients_A_X)"
   ]
  },
  {
   "cell_type": "code",
   "execution_count": 16,
   "metadata": {},
   "outputs": [
    {
     "data": {
      "application/vnd.plotly.v1+json": {
       "config": {
        "plotlyServerURL": "https://plot.ly"
       },
       "data": [
        {
         "fill": "toself",
         "fillcolor": "#000000",
         "line": {
          "color": "#000000",
          "width": 2
         },
         "mode": "lines",
         "type": "scatter",
         "x": [
          107.48111,
          110.45762,
          112.84765
         ],
         "y": [
          -167.36919,
          -176.54128,
          -184.019
         ]
        },
        {
         "fill": "toself",
         "fillcolor": "#ffffff",
         "line": {
          "color": "#000000",
          "width": 2
         },
         "mode": "lines",
         "type": "scatter",
         "x": [
          89.868233,
          100.03817,
          100.03817,
          89.868233,
          89.868233
         ],
         "y": [
          -73.578049,
          -73.578049,
          -88.360854,
          -88.360854,
          -73.578049
         ]
        },
        {
         "fill": "toself",
         "fillcolor": "#ffffff",
         "line": {
          "color": "#000000",
          "width": 2
         },
         "mode": "lines",
         "type": "scatter",
         "x": [
          61.028416,
          70,
          58.592682,
          49.681937,
          61.028416
         ],
         "y": [
          -95.345941,
          -100,
          -122.16136,
          -117.62277,
          -95.345941
         ]
        },
        {
         "fill": "toself",
         "fillcolor": "#ffffff",
         "line": {
          "color": "#000000",
          "width": 2
         },
         "mode": "lines",
         "type": "scatter",
         "x": [
          120.03588,
          128.99521000000001,
          140.83387000000002,
          132.02619,
          120.03588
         ],
         "y": [
          -99.977349,
          -95.291285,
          -117.31049,
          -122.04598,
          -99.977349
         ]
        },
        {
         "fill": "toself",
         "fillcolor": "#ffffff",
         "line": {
          "color": "#000000",
          "width": 2
         },
         "mode": "lines",
         "type": "scatter",
         "x": [
          47.073663,
          56.045247,
          44.637929,
          35.727184,
          47.073663
         ],
         "y": [
          -122.38751,
          -127.04157000000001,
          -149.20293,
          -144.66434,
          -122.38751
         ]
        },
        {
         "fill": "toself",
         "fillcolor": "#ffffff",
         "line": {
          "color": "#000000",
          "width": 2
         },
         "mode": "lines",
         "type": "scatter",
         "x": [
          134.46518,
          143.40702,
          155.32744,
          146.53743,
          134.46518
         ],
         "y": [
          -126.73814,
          -122.01882,
          -143.99387000000002,
          -148.76206000000002,
          -126.73814
         ]
        },
        {
         "fill": "toself",
         "fillcolor": "#ffffff",
         "line": {
          "color": "#000000",
          "width": 2
         },
         "mode": "lines",
         "type": "scatter",
         "x": [
          80,
          110,
          110,
          80,
          80
         ],
         "y": [
          -132,
          -132,
          -153,
          -153,
          -132
         ]
        },
        {
         "fill": "toself",
         "fillcolor": "#000000",
         "line": {
          "color": "#000000",
          "width": 2
         },
         "mode": "lines",
         "type": "scatter",
         "x": [
          65.406285,
          71.352311,
          71.352311
         ],
         "y": [
          -97.571008,
          -94.949138,
          -94.949138
         ]
        },
        {
         "fill": "toself",
         "fillcolor": "#000000",
         "line": {
          "color": "#000000",
          "width": 2
         },
         "mode": "lines",
         "type": "scatter",
         "x": [
          124.44939,
          118.5963,
          118.5963
         ],
         "y": [
          -97.728017,
          -94.904737,
          -94.904737
         ]
        },
        {
         "fill": "toself",
         "fillcolor": "#ffffff",
         "line": {
          "color": "#000000",
          "width": 2
         },
         "mode": "lines",
         "type": "scatter",
         "x": [
          80,
          85,
          105,
          110,
          80
         ],
         "y": [
          -160,
          -175,
          -175,
          -160,
          -160
         ]
        },
        {
         "fill": "toself",
         "fillcolor": "#000000",
         "line": {
          "color": "#000000",
          "width": 2
         },
         "mode": "lines",
         "type": "scatter",
         "x": [
          40.083681,
          38.924835,
          37.972834
         ],
         "y": [
          -146.78902,
          -148.96759,
          -150.73598
         ]
        },
        {
         "fill": "toself",
         "fillcolor": "#000000",
         "line": {
          "color": "#000000",
          "width": 2
         },
         "mode": "lines",
         "type": "scatter",
         "x": [
          150.71751,
          151.96955,
          152.97928
         ],
         "y": [
          -146.36322,
          -148.57195000000002,
          -150.37385
         ]
        },
        {
         "fill": "toself",
         "fillcolor": "#000000",
         "line": {
          "color": "#000000",
          "width": 2
         },
         "mode": "lines",
         "type": "scatter",
         "x": [
          95.001098,
          95.001098
         ],
         "y": [
          -69.881817,
          -73.683644
         ]
        },
        {
         "fill": "toself",
         "fillcolor": "#000000",
         "line": {
          "color": "#000000",
          "width": 2
         },
         "mode": "lines",
         "type": "scatter",
         "x": [
          95.01491,
          95.01491
         ],
         "y": [
          -88.370831,
          -90.087273
         ]
        },
        {
         "fill": "toself",
         "fillcolor": "#000000",
         "line": {
          "color": "#000000",
          "width": 2
         },
         "mode": "lines",
         "type": "scatter",
         "x": [
          95.004643,
          95.004643
         ],
         "y": [
          -124.68179,
          -132.06331
         ]
        },
        {
         "fill": "toself",
         "fillcolor": "#000000",
         "line": {
          "color": "#000000",
          "width": 2
         },
         "mode": "lines",
         "type": "scatter",
         "x": [
          136.27361,
          137.7594,
          138.95764
         ],
         "y": [
          -119.61809,
          -122.18177,
          -124.27323
         ]
        },
        {
         "fill": "toself",
         "fillcolor": "#000000",
         "line": {
          "color": "#000000",
          "width": 2
         },
         "mode": "lines",
         "type": "scatter",
         "x": [
          94.998373,
          94.998373
         ],
         "y": [
          -152.9691,
          -160.04331
         ]
        },
        {
         "fill": "toself",
         "fillcolor": "#000000",
         "line": {
          "color": "#000000",
          "width": 2
         },
         "mode": "lines",
         "type": "scatter",
         "x": [
          54.069722,
          52.680819,
          51.539825
         ],
         "y": [
          -119.77689,
          -122.44125,
          -124.60396
         ]
        },
        {
         "fill": "toself",
         "fillcolor": "#ffffff",
         "line": {
          "color": "#000000",
          "width": 2
         },
         "mode": "lines",
         "type": "scatter",
         "x": [
          108.25867,
          118.04965999999999,
          124.56352999999999,
          114.90894999999999,
          108.25867
         ],
         "y": [
          -185.3602,
          -182.8373,
          -206.97376,
          -209.57933,
          -185.3602
         ]
        },
        {
         "fill": "toself",
         "fillcolor": "#ffffff",
         "line": {
          "color": "#000000",
          "width": 2
         },
         "mode": "lines",
         "type": "scatter",
         "x": [
          116.13227,
          125.88302,
          132.76983,
          123.15675000000002,
          116.13227
         ],
         "y": [
          -213.89456,
          -211.22036,
          -235.25307,
          -238.00782,
          -213.89456
         ]
        },
        {
         "fill": "toself",
         "fillcolor": "#000000",
         "line": {
          "color": "#000000",
          "width": 2
         },
         "mode": "lines",
         "type": "scatter",
         "x": [
          82.421348,
          80.22262699999999,
          78.39873499999999
         ],
         "y": [
          -167.19964,
          -176.58858999999998,
          -184.22415999999998
         ]
        },
        {
         "fill": "toself",
         "fillcolor": "#ffffff",
         "line": {
          "color": "#000000",
          "width": 2
         },
         "mode": "lines",
         "type": "scatter",
         "x": [
          73.463098,
          83.253514,
          77.286431,
          67.57545599999999,
          73.463098
         ],
         "y": [
          -182.91609,
          -185.44122,
          -209.71865,
          -207.33183,
          -182.91609
         ]
        },
        {
         "fill": "toself",
         "fillcolor": "#ffffff",
         "line": {
          "color": "#000000",
          "width": 2
         },
         "mode": "lines",
         "type": "scatter",
         "x": [
          66.396401,
          76.18681699999999,
          70.21973499999999,
          60.50875999999999,
          66.396401
         ],
         "y": [
          -211.82961,
          -214.35474,
          -238.63215,
          -236.24534,
          -211.82961
         ]
        },
        {
         "fill": "toself",
         "fillcolor": "#000000",
         "line": {
          "color": "#000000",
          "width": 2
         },
         "mode": "lines",
         "type": "scatter",
         "x": [
          72.412142,
          71.71050600000001,
          71.128482
         ],
         "y": [
          -208.34783,
          -211.03061,
          -213.21239
         ]
        },
        {
         "fill": "toself",
         "fillcolor": "#000000",
         "line": {
          "color": "#000000",
          "width": 2
         },
         "mode": "lines",
         "type": "scatter",
         "x": [
          119.69298,
          120.43122000000001,
          121.02248000000002
         ],
         "y": [
          -208.14064,
          -210.65257,
          -212.7
         ]
        },
        {
         "fill": "toself",
         "fillcolor": "#ffffff",
         "line": {
          "color": "#000000",
          "width": 2
         },
         "mode": "lines",
         "type": "scatter",
         "x": [
          132.55933,
          135.0228,
          152.32711999999998,
          149.96945999999997,
          132.55933
         ],
         "y": [
          -247.14989,
          -239.63975,
          -245.98999999999998,
          -253.44728999999998,
          -247.14989
         ]
        },
        {
         "fill": "toself",
         "fillcolor": "#000000",
         "line": {
          "color": "#000000",
          "width": 2
         },
         "mode": "lines",
         "type": "scatter",
         "x": [
          127.57021,
          130.90434,
          133.57465
         ],
         "y": [
          -236.77627,
          -240.73785,
          -243.96684000000002
         ]
        },
        {
         "fill": "toself",
         "fillcolor": "#ffffff",
         "line": {
          "color": "#000000",
          "width": 2
         },
         "mode": "lines",
         "type": "scatter",
         "x": [
          58.018241,
          60.990451,
          43.680111,
          40.661300999999995,
          58.018241
         ],
         "y": [
          -239.68879,
          -247.01251000000002,
          -253.34635000000003,
          -246.13133000000002,
          -239.68879
         ]
        },
        {
         "fill": "toself",
         "fillcolor": "#000000",
         "line": {
          "color": "#000000",
          "width": 2
         },
         "mode": "lines",
         "type": "scatter",
         "x": [
          65.414825,
          62.13010799999999,
          59.444278999999995
         ],
         "y": [
          -237.40569,
          -240.68592999999998,
          -243.32142
         ]
        },
        {
         "fill": "toself",
         "fillcolor": "#ffffff",
         "line": {
          "color": "#000000",
          "width": 2
         },
         "mode": "lines",
         "type": "scatter",
         "x": [
          84.956471,
          79.917838,
          79.917838,
          79.917838,
          82.975581,
          86.03332900000001,
          94.93117900000001,
          103.82903000000002,
          106.88593000000002,
          109.94280000000002,
          109.94280000000002,
          109.94280000000002,
          104.90416000000002,
          99.86551600000001,
          94.93031600000002,
          89.99510200000002,
          84.956471
         ],
         "y": [
          -64.856338,
          -59.760703,
          -46.701769,
          -33.642834,
          -30.585952,
          -27.529069,
          -27.529069,
          -27.529069,
          -30.586813,
          -33.644557999999996,
          -46.702628999999995,
          -59.76070299999999,
          -64.856338,
          -69.951966,
          -69.951966,
          -69.951966,
          -64.856338
         ]
        },
        {
         "fill": "toself",
         "fillcolor": "#02faf2",
         "line": {
          "color": "#000000",
          "width": 2
         },
         "mode": "lines",
         "type": "scatter",
         "x": [
          33.563027,
          42.532833,
          37.51123199999999,
          28.541424999999993,
          33.563027
         ],
         "y": [
          -148.34435,
          -153.26748999999998,
          -162.41667999999999,
          -157.49354,
          -148.34435
         ]
        },
        {
         "fill": "toself",
         "fillcolor": "#ffffff",
         "line": {
          "color": "#000000",
          "width": 2
         },
         "mode": "lines",
         "type": "scatter",
         "x": [
          70,
          120,
          110,
          80,
          70
         ],
         "y": [
          -90,
          -90,
          -125,
          -125,
          -90
         ]
        },
        {
         "fill": "toself",
         "fillcolor": "#ffffff",
         "line": {
          "color": "#000000",
          "width": 2
         },
         "mode": "lines",
         "type": "scatter",
         "x": [
          70,
          85,
          85,
          72.85434,
          70
         ],
         "y": [
          -90,
          -90,
          -100,
          -100,
          -90
         ]
        },
        {
         "fill": "toself",
         "fillcolor": "#ffffff",
         "line": {
          "color": "#000000",
          "width": 2
         },
         "mode": "lines",
         "type": "scatter",
         "x": [
          104.95347,
          120,
          117.18673,
          104.95347,
          104.95347
         ],
         "y": [
          -90,
          -90,
          -100,
          -100,
          -90
         ]
        },
        {
         "fill": "toself",
         "fillcolor": "#ffffff",
         "line": {
          "color": "#000000",
          "width": 2
         },
         "mode": "lines",
         "type": "scatter",
         "x": [
          148.88306,
          157.92294,
          162.87361,
          153.83373,
          148.88306
         ],
         "y": [
          -152.67858,
          -147.82499,
          -157.04567,
          -161.89926,
          -152.67858
         ]
        }
       ],
       "layout": {
        "height": 900,
        "showlegend": false,
        "template": {
         "data": {
          "scatter": [
           {
            "type": "scatter"
           }
          ]
         }
        },
        "width": 600,
        "xaxis": {
         "showgrid": false,
         "showline": false,
         "showticklabels": false,
         "ticks": "",
         "zeroline": false
        },
        "yaxis": {
         "showgrid": false,
         "showline": false,
         "showticklabels": false,
         "ticks": "",
         "zeroline": false
        }
       }
      }
     },
     "metadata": {},
     "output_type": "display_data"
    }
   ],
   "source": [
    "# Code for color code Plot for Decoder C\n",
    "decoderCColor = (2,250,242) # (RGB) or  #02FAF2 (Hex)\n",
    "decoderCColorPlt = (2/255,250/255,242/255) # (RGB) or  #02FAF2 (Hex)\n",
    "white =  (255, 255, 255) # White\n",
    "# Set location and import body parts ( list of names of bodies that coefficients correspond to)\n",
    "location = '../../body.svg'\n",
    "\n",
    "coefficients  = [\n",
    "    0,0,0,0,0, # Central body parts\n",
    "    0,0,0,1, # upper left\n",
    "    0,0,0,0, # upper right\n",
    "    0,0,0, # lower left\n",
    "    0,0,0 # lower right\n",
    "]\n",
    "\n",
    "# Extract shape data from the svg file\n",
    "elements,points,pathElements,bodyPartMapping = extractShapesFromSVG(location=location,parts=bodyParts)\n",
    "\n",
    "# Set colours for each coefficient\n",
    "colours = [get_color_hex(i,white,decoderCColor) for i in coefficients]\n",
    "\n",
    "# Draw the object \n",
    "drawObject(points,elements,colours,bodyPartMapping,saveGameLocation+\"_bodySchematic_decoderC_preAnalysis.svg\")\n",
    "#print(coefficients_A_X)"
   ]
  },
  {
   "cell_type": "code",
   "execution_count": 19,
   "metadata": {},
   "outputs": [
    {
     "data": {
      "application/vnd.plotly.v1+json": {
       "config": {
        "plotlyServerURL": "https://plot.ly"
       },
       "data": [
        {
         "fill": "toself",
         "fillcolor": "#000000",
         "line": {
          "color": "#000000",
          "width": 2
         },
         "mode": "lines",
         "type": "scatter",
         "x": [
          107.48111,
          110.45762,
          112.84765
         ],
         "y": [
          -167.36919,
          -176.54128,
          -184.019
         ]
        },
        {
         "fill": "toself",
         "fillcolor": "#ffffff",
         "line": {
          "color": "#000000",
          "width": 2
         },
         "mode": "lines",
         "type": "scatter",
         "x": [
          89.868233,
          100.03817,
          100.03817,
          89.868233,
          89.868233
         ],
         "y": [
          -73.578049,
          -73.578049,
          -88.360854,
          -88.360854,
          -73.578049
         ]
        },
        {
         "fill": "toself",
         "fillcolor": "#ffffff",
         "line": {
          "color": "#000000",
          "width": 2
         },
         "mode": "lines",
         "type": "scatter",
         "x": [
          61.028416,
          70,
          58.592682,
          49.681937,
          61.028416
         ],
         "y": [
          -95.345941,
          -100,
          -122.16136,
          -117.62277,
          -95.345941
         ]
        },
        {
         "fill": "toself",
         "fillcolor": "#ffffff",
         "line": {
          "color": "#000000",
          "width": 2
         },
         "mode": "lines",
         "type": "scatter",
         "x": [
          120.03588,
          128.99521000000001,
          140.83387000000002,
          132.02619,
          120.03588
         ],
         "y": [
          -99.977349,
          -95.291285,
          -117.31049,
          -122.04598,
          -99.977349
         ]
        },
        {
         "fill": "toself",
         "fillcolor": "#ffffff",
         "line": {
          "color": "#000000",
          "width": 2
         },
         "mode": "lines",
         "type": "scatter",
         "x": [
          47.073663,
          56.045247,
          44.637929,
          35.727184,
          47.073663
         ],
         "y": [
          -122.38751,
          -127.04157000000001,
          -149.20293,
          -144.66434,
          -122.38751
         ]
        },
        {
         "fill": "toself",
         "fillcolor": "#ffffff",
         "line": {
          "color": "#000000",
          "width": 2
         },
         "mode": "lines",
         "type": "scatter",
         "x": [
          134.46518,
          143.40702,
          155.32744,
          146.53743,
          134.46518
         ],
         "y": [
          -126.73814,
          -122.01882,
          -143.99387000000002,
          -148.76206000000002,
          -126.73814
         ]
        },
        {
         "fill": "toself",
         "fillcolor": "#ffffff",
         "line": {
          "color": "#000000",
          "width": 2
         },
         "mode": "lines",
         "type": "scatter",
         "x": [
          80,
          110,
          110,
          80,
          80
         ],
         "y": [
          -132,
          -132,
          -153,
          -153,
          -132
         ]
        },
        {
         "fill": "toself",
         "fillcolor": "#000000",
         "line": {
          "color": "#000000",
          "width": 2
         },
         "mode": "lines",
         "type": "scatter",
         "x": [
          65.406285,
          71.352311,
          71.352311
         ],
         "y": [
          -97.571008,
          -94.949138,
          -94.949138
         ]
        },
        {
         "fill": "toself",
         "fillcolor": "#000000",
         "line": {
          "color": "#000000",
          "width": 2
         },
         "mode": "lines",
         "type": "scatter",
         "x": [
          124.44939,
          118.5963,
          118.5963
         ],
         "y": [
          -97.728017,
          -94.904737,
          -94.904737
         ]
        },
        {
         "fill": "toself",
         "fillcolor": "#ffffff",
         "line": {
          "color": "#000000",
          "width": 2
         },
         "mode": "lines",
         "type": "scatter",
         "x": [
          80,
          85,
          105,
          110,
          80
         ],
         "y": [
          -160,
          -175,
          -175,
          -160,
          -160
         ]
        },
        {
         "fill": "toself",
         "fillcolor": "#000000",
         "line": {
          "color": "#000000",
          "width": 2
         },
         "mode": "lines",
         "type": "scatter",
         "x": [
          40.083681,
          38.924835,
          37.972834
         ],
         "y": [
          -146.78902,
          -148.96759,
          -150.73598
         ]
        },
        {
         "fill": "toself",
         "fillcolor": "#000000",
         "line": {
          "color": "#000000",
          "width": 2
         },
         "mode": "lines",
         "type": "scatter",
         "x": [
          150.71751,
          151.96955,
          152.97928
         ],
         "y": [
          -146.36322,
          -148.57195000000002,
          -150.37385
         ]
        },
        {
         "fill": "toself",
         "fillcolor": "#000000",
         "line": {
          "color": "#000000",
          "width": 2
         },
         "mode": "lines",
         "type": "scatter",
         "x": [
          95.001098,
          95.001098
         ],
         "y": [
          -69.881817,
          -73.683644
         ]
        },
        {
         "fill": "toself",
         "fillcolor": "#000000",
         "line": {
          "color": "#000000",
          "width": 2
         },
         "mode": "lines",
         "type": "scatter",
         "x": [
          95.01491,
          95.01491
         ],
         "y": [
          -88.370831,
          -90.087273
         ]
        },
        {
         "fill": "toself",
         "fillcolor": "#000000",
         "line": {
          "color": "#000000",
          "width": 2
         },
         "mode": "lines",
         "type": "scatter",
         "x": [
          95.004643,
          95.004643
         ],
         "y": [
          -124.68179,
          -132.06331
         ]
        },
        {
         "fill": "toself",
         "fillcolor": "#000000",
         "line": {
          "color": "#000000",
          "width": 2
         },
         "mode": "lines",
         "type": "scatter",
         "x": [
          136.27361,
          137.7594,
          138.95764
         ],
         "y": [
          -119.61809,
          -122.18177,
          -124.27323
         ]
        },
        {
         "fill": "toself",
         "fillcolor": "#000000",
         "line": {
          "color": "#000000",
          "width": 2
         },
         "mode": "lines",
         "type": "scatter",
         "x": [
          94.998373,
          94.998373
         ],
         "y": [
          -152.9691,
          -160.04331
         ]
        },
        {
         "fill": "toself",
         "fillcolor": "#000000",
         "line": {
          "color": "#000000",
          "width": 2
         },
         "mode": "lines",
         "type": "scatter",
         "x": [
          54.069722,
          52.680819,
          51.539825
         ],
         "y": [
          -119.77689,
          -122.44125,
          -124.60396
         ]
        },
        {
         "fill": "toself",
         "fillcolor": "#ffffff",
         "line": {
          "color": "#000000",
          "width": 2
         },
         "mode": "lines",
         "type": "scatter",
         "x": [
          108.25867,
          118.04965999999999,
          124.56352999999999,
          114.90894999999999,
          108.25867
         ],
         "y": [
          -185.3602,
          -182.8373,
          -206.97376,
          -209.57933,
          -185.3602
         ]
        },
        {
         "fill": "toself",
         "fillcolor": "#ffffff",
         "line": {
          "color": "#000000",
          "width": 2
         },
         "mode": "lines",
         "type": "scatter",
         "x": [
          116.13227,
          125.88302,
          132.76983,
          123.15675000000002,
          116.13227
         ],
         "y": [
          -213.89456,
          -211.22036,
          -235.25307,
          -238.00782,
          -213.89456
         ]
        },
        {
         "fill": "toself",
         "fillcolor": "#000000",
         "line": {
          "color": "#000000",
          "width": 2
         },
         "mode": "lines",
         "type": "scatter",
         "x": [
          82.421348,
          80.22262699999999,
          78.39873499999999
         ],
         "y": [
          -167.19964,
          -176.58858999999998,
          -184.22415999999998
         ]
        },
        {
         "fill": "toself",
         "fillcolor": "#ffffff",
         "line": {
          "color": "#000000",
          "width": 2
         },
         "mode": "lines",
         "type": "scatter",
         "x": [
          73.463098,
          83.253514,
          77.286431,
          67.57545599999999,
          73.463098
         ],
         "y": [
          -182.91609,
          -185.44122,
          -209.71865,
          -207.33183,
          -182.91609
         ]
        },
        {
         "fill": "toself",
         "fillcolor": "#ffffff",
         "line": {
          "color": "#000000",
          "width": 2
         },
         "mode": "lines",
         "type": "scatter",
         "x": [
          66.396401,
          76.18681699999999,
          70.21973499999999,
          60.50875999999999,
          66.396401
         ],
         "y": [
          -211.82961,
          -214.35474,
          -238.63215,
          -236.24534,
          -211.82961
         ]
        },
        {
         "fill": "toself",
         "fillcolor": "#000000",
         "line": {
          "color": "#000000",
          "width": 2
         },
         "mode": "lines",
         "type": "scatter",
         "x": [
          72.412142,
          71.71050600000001,
          71.128482
         ],
         "y": [
          -208.34783,
          -211.03061,
          -213.21239
         ]
        },
        {
         "fill": "toself",
         "fillcolor": "#000000",
         "line": {
          "color": "#000000",
          "width": 2
         },
         "mode": "lines",
         "type": "scatter",
         "x": [
          119.69298,
          120.43122000000001,
          121.02248000000002
         ],
         "y": [
          -208.14064,
          -210.65257,
          -212.7
         ]
        },
        {
         "fill": "toself",
         "fillcolor": "#ffffff",
         "line": {
          "color": "#000000",
          "width": 2
         },
         "mode": "lines",
         "type": "scatter",
         "x": [
          132.55933,
          135.0228,
          152.32711999999998,
          149.96945999999997,
          132.55933
         ],
         "y": [
          -247.14989,
          -239.63975,
          -245.98999999999998,
          -253.44728999999998,
          -247.14989
         ]
        },
        {
         "fill": "toself",
         "fillcolor": "#000000",
         "line": {
          "color": "#000000",
          "width": 2
         },
         "mode": "lines",
         "type": "scatter",
         "x": [
          127.57021,
          130.90434,
          133.57465
         ],
         "y": [
          -236.77627,
          -240.73785,
          -243.96684000000002
         ]
        },
        {
         "fill": "toself",
         "fillcolor": "#ffffff",
         "line": {
          "color": "#000000",
          "width": 2
         },
         "mode": "lines",
         "type": "scatter",
         "x": [
          58.018241,
          60.990451,
          43.680111,
          40.661300999999995,
          58.018241
         ],
         "y": [
          -239.68879,
          -247.01251000000002,
          -253.34635000000003,
          -246.13133000000002,
          -239.68879
         ]
        },
        {
         "fill": "toself",
         "fillcolor": "#000000",
         "line": {
          "color": "#000000",
          "width": 2
         },
         "mode": "lines",
         "type": "scatter",
         "x": [
          65.414825,
          62.13010799999999,
          59.444278999999995
         ],
         "y": [
          -237.40569,
          -240.68592999999998,
          -243.32142
         ]
        },
        {
         "fill": "toself",
         "fillcolor": "#ffffff",
         "line": {
          "color": "#000000",
          "width": 2
         },
         "mode": "lines",
         "type": "scatter",
         "x": [
          84.956471,
          79.917838,
          79.917838,
          79.917838,
          82.975581,
          86.03332900000001,
          94.93117900000001,
          103.82903000000002,
          106.88593000000002,
          109.94280000000002,
          109.94280000000002,
          109.94280000000002,
          104.90416000000002,
          99.86551600000001,
          94.93031600000002,
          89.99510200000002,
          84.956471
         ],
         "y": [
          -64.856338,
          -59.760703,
          -46.701769,
          -33.642834,
          -30.585952,
          -27.529069,
          -27.529069,
          -27.529069,
          -30.586813,
          -33.644557999999996,
          -46.702628999999995,
          -59.76070299999999,
          -64.856338,
          -69.951966,
          -69.951966,
          -69.951966,
          -64.856338
         ]
        },
        {
         "fill": "toself",
         "fillcolor": "#ffffff",
         "line": {
          "color": "#000000",
          "width": 2
         },
         "mode": "lines",
         "type": "scatter",
         "x": [
          33.563027,
          42.532833,
          37.51123199999999,
          28.541424999999993,
          33.563027
         ],
         "y": [
          -148.34435,
          -153.26748999999998,
          -162.41667999999999,
          -157.49354,
          -148.34435
         ]
        },
        {
         "fill": "toself",
         "fillcolor": "#ffffff",
         "line": {
          "color": "#000000",
          "width": 2
         },
         "mode": "lines",
         "type": "scatter",
         "x": [
          70,
          120,
          110,
          80,
          70
         ],
         "y": [
          -90,
          -90,
          -125,
          -125,
          -90
         ]
        },
        {
         "fill": "toself",
         "fillcolor": "#ffffff",
         "line": {
          "color": "#000000",
          "width": 2
         },
         "mode": "lines",
         "type": "scatter",
         "x": [
          70,
          85,
          85,
          72.85434,
          70
         ],
         "y": [
          -90,
          -90,
          -100,
          -100,
          -90
         ]
        },
        {
         "fill": "toself",
         "fillcolor": "#ffffff",
         "line": {
          "color": "#000000",
          "width": 2
         },
         "mode": "lines",
         "type": "scatter",
         "x": [
          104.95347,
          120,
          117.18673,
          104.95347,
          104.95347
         ],
         "y": [
          -90,
          -90,
          -100,
          -100,
          -90
         ]
        },
        {
         "fill": "toself",
         "fillcolor": "#f5ed05",
         "line": {
          "color": "#000000",
          "width": 2
         },
         "mode": "lines",
         "type": "scatter",
         "x": [
          148.88306,
          157.92294,
          162.87361,
          153.83373,
          148.88306
         ],
         "y": [
          -152.67858,
          -147.82499,
          -157.04567,
          -161.89926,
          -152.67858
         ]
        }
       ],
       "layout": {
        "height": 900,
        "showlegend": false,
        "template": {
         "data": {
          "scatter": [
           {
            "type": "scatter"
           }
          ]
         }
        },
        "width": 600,
        "xaxis": {
         "showgrid": false,
         "showline": false,
         "showticklabels": false,
         "ticks": "",
         "zeroline": false
        },
        "yaxis": {
         "showgrid": false,
         "showline": false,
         "showticklabels": false,
         "ticks": "",
         "zeroline": false
        }
       }
      }
     },
     "metadata": {},
     "output_type": "display_data"
    }
   ],
   "source": [
    "# Code for color code Plot for Decoder D\n",
    "decoderDColor = (245,237,5) # (RGB) or F5ED05 (Hex)\n",
    "decoderDColorPlt = (245/255,237/255,5/255) # (RGB) or F5ED05 (Hex)\n",
    "white =  (255, 255, 255) # White\n",
    "# Set location and import body parts ( list of names of bodies that coefficients correspond to)\n",
    "location = '../../body.svg'\n",
    "\n",
    "coefficients  = [\n",
    "    0,0,0,0,0, # Central body parts\n",
    "    0,0,0,0, # upper left\n",
    "    0,0,0,1, # upper right\n",
    "    0,0,0, # lower left\n",
    "    0,0,0 # lower right\n",
    "]\n",
    "\n",
    "# Extract shape data from the svg file\n",
    "elements,points,pathElements,bodyPartMapping = extractShapesFromSVG(location=location,parts=bodyParts)\n",
    "\n",
    "# Set colours for each coefficient\n",
    "colours = [get_color_hex(i,white,decoderDColor) for i in coefficients]\n",
    "\n",
    "# Draw the object \n",
    "drawObject(points,elements,colours,bodyPartMapping,saveGameLocation+\"_bodySchematic_decoderD_preAnalysis.svg\")\n",
    "#print(coefficients_A_X)"
   ]
  }
 ],
 "metadata": {
  "kernelspec": {
   "display_name": "Python 3",
   "language": "python",
   "name": "python3"
  },
  "language_info": {
   "codemirror_mode": {
    "name": "ipython",
    "version": 3
   },
   "file_extension": ".py",
   "mimetype": "text/x-python",
   "name": "python",
   "nbconvert_exporter": "python",
   "pygments_lexer": "ipython3",
   "version": "3.11.5"
  }
 },
 "nbformat": 4,
 "nbformat_minor": 2
}
