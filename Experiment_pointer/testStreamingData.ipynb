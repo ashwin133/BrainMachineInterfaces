{
 "cells": [
  {
   "cell_type": "markdown",
   "metadata": {},
   "source": [
    "## Script built to ensure data is being streamed properly"
   ]
  },
  {
   "cell_type": "code",
   "execution_count": 4,
   "metadata": {},
   "outputs": [],
   "source": [
    "# Import necessary libraries\n",
    "from multiprocessing import shared_memory\n",
    "import numpy as np\n",
    "import time\n",
    "import pandas as pd\n",
    "import numpy as np\n",
    "import matplotlib.pyplot as plt\n",
    "import matplotlib.animation as animation\n",
    "import sys\n",
    "sys.path.insert(0,'/Users/ashwin/Documents/Y4 project Brain Human Interfaces/General 4th year Github repo/BrainMachineInterfaces')\n",
    "from lib_streamAndRenderDataWorkflows.config_streaming import renderingBodyParts\n",
    "from time import perf_counter\n",
    "from lib_streamAndRenderDataWorkflows import quaternions\n",
    "np.set_printoptions(suppress=True)\n"
   ]
  },
  {
   "cell_type": "code",
   "execution_count": 5,
   "metadata": {},
   "outputs": [],
   "source": [
    "# Define shared memory\n",
    "\n",
    "# Define constants\n",
    "sharedMemName = 'Test Rigid Body'\n",
    "noDataTypes = 7\n",
    "noBodyParts = 51\n",
    "\n",
    "# Initialise the shared memory\n",
    "sharedMemShape = (noBodyParts,noDataTypes)\n",
    "sharedMemSize =  noDataTypes * noBodyParts\n",
    "shared_block = shared_memory.SharedMemory(size= sharedMemSize * 8, name=sharedMemName, create=False)\n",
    "shared_array = np.ndarray(shape=sharedMemShape, dtype=np.float64, buffer=shared_block.buf)\n"
   ]
  },
  {
   "cell_type": "code",
   "execution_count": 6,
   "metadata": {},
   "outputs": [],
   "source": [
    "# Store some functions for calibration\n",
    "\n",
    "def alertUserForCalibration():\n",
    "    print('Before we start, the calibration stage must be undertaken')\n",
    "    print('Face upright and standing towards the computer and point the right hand forward')\n",
    "    print('Calibration will start in 3')\n",
    "    time.sleep(1)\n",
    "    print('2')\n",
    "    time.sleep(1)\n",
    "    print('1')\n",
    "    time.sleep(1)\n",
    "    print('Calibrating - point your hand and arm forwards and keep it straight')\n",
    "\n",
    "\n",
    "def calcCalibrationConstants(controlBodyData, calibrationToVector= np.array([1,0,0])):\n",
    "    \"\"\"\n",
    "    attempts to calibrate for person standing off x axis by finding the transformation\n",
    "    matrix to transform off axis motion to the standard axes\n",
    "    returns a transformation matrix that can convert directions and positions \n",
    "    position is the first three items\n",
    "    \"\"\"\n",
    "    calibrationFromVector = controlBodyData[3:6]\n",
    "    position = controlBodyData[0:3]\n",
    "    # calculate thetha from dot product\n",
    "    thetha_rad = np.arccos(np.dot(calibrationToVector,calibrationFromVector)/(np.linalg.norm(calibrationToVector) * np.linalg.norm(calibrationFromVector)))\n",
    "\n",
    "    # calculate Q\n",
    "    Q = np.zeros((3,3))\n",
    "    Q[0,0] = np.cos(thetha_rad)\n",
    "    Q[1,1] = Q[0,0]\n",
    "    Q[0,1] = np.sin(thetha_rad)\n",
    "    Q[1,0] = - Q[0,1]\n",
    "    Q[2,2] = 1\n",
    "    offset = -position\n",
    "\n",
    "    calibrationMatrix = Q.transpose()\n",
    "    return calibrationMatrix, offset\n",
    "\n",
    "def preProcessRawData(sharedData,calibrationMatrix, offset):\n",
    "    sharedData[:,0:3] = np.matmul(calibrationMatrix,(sharedData[:,0:3] + offset).transpose()).transpose()\n",
    "    sharedData[:,3:6] = np.matmul(calibrationMatrix,sharedData[:,3:6].transpose()).transpose()\n",
    "    return sharedData\n",
    "\n",
    "def findSuitableRange(calibrationMatrix,offset,timeDuration = 10,bodyPart = \"RHand\"):\n",
    "    \n",
    "    # Initialise ranges\n",
    "    minX = np.inf\n",
    "    minY = np.inf\n",
    "    maxX = -np.inf\n",
    "    maxY = -np.inf\n",
    "\n",
    "    # set index\n",
    "    if bodyPart == \"RHand\":\n",
    "        idxBody = 27\n",
    "    elif bodyPart == \"Head\":\n",
    "        idxBody = 4\n",
    "\n",
    "    # Set timestamps\n",
    "    samplingRate = 120 # in Hz\n",
    "    timeStamps = np.zeros(samplingRate * timeDuration)\n",
    "    noTimeStamps = len(timeStamps)\n",
    "\n",
    "    # Repeat for all times\n",
    "    for time_ in range(0,noTimeStamps):\n",
    "        time.sleep(1/samplingRate)\n",
    "        sharedData = preProcessRawData(sharedData=shared_array.copy(), calibrationMatrix=calibrationMatrix,offset=offset)\n",
    "        timeStamps[time_] = perf_counter() \n",
    "        y = sharedData[idxBody,2]\n",
    "        x = - sharedData[idxBody,1]\n",
    "        minX, minY = min(minX,x), min(minY,y)\n",
    "        maxX, maxY = max(maxX,x), max(maxY,y)\n",
    "    \n",
    "    return minX,maxX, minY, maxY\n",
    "\n",
    "def calcScreenPos(processedData,minX,maxX,minY,maxY):\n",
    "    return ((-processedData[27,1] - minX) /( maxX - minX)), ((processedData[27,2] - minY) / (maxY - minY))\n"
   ]
  },
  {
   "cell_type": "code",
   "execution_count": 7,
   "metadata": {},
   "outputs": [
    {
     "name": "stdout",
     "output_type": "stream",
     "text": [
      "Before we start, the calibration stage must be undertaken\n",
      "Face upright and standing towards the computer and point the right hand forward\n",
      "Calibration will start in 3\n",
      "2\n",
      "1\n",
      "Calibrating - point your hand and arm forwards and keep it straight\n",
      "Calibrated\n"
     ]
    }
   ],
   "source": [
    "# Calibrate initial readings\n",
    "alertUserForCalibration()\n",
    "\n",
    "# Read shared memory ( right hand is idx 27) # head is 8\n",
    "rightHandData = shared_array[8,:]\n",
    "\n",
    "# Find calibration matrix and offset\n",
    "calibrationMatrix, offset = calcCalibrationConstants(rightHandData)\n",
    "\n",
    "print(\"Calibrated\")\n"
   ]
  },
  {
   "cell_type": "code",
   "execution_count": 61,
   "metadata": {},
   "outputs": [
    {
     "data": {
      "text/plain": [
       "array([-1.0512377 ,  0.11397665,  1.29011285, -0.22626594, -0.70362719,\n",
       "        0.67358179])"
      ]
     },
     "execution_count": 61,
     "metadata": {},
     "output_type": "execute_result"
    }
   ],
   "source": [
    "# straight\n",
    "straight =shared_array[4,0:6]\n",
    "straight"
   ]
  },
  {
   "cell_type": "code",
   "execution_count": 17,
   "metadata": {},
   "outputs": [
    {
     "data": {
      "text/plain": [
       "array([-0.89800447,  0.11012802,  1.34532785,  0.29354136, -0.42721966,\n",
       "        0.85517066])"
      ]
     },
     "execution_count": 17,
     "metadata": {},
     "output_type": "execute_result"
    }
   ],
   "source": [
    "# left\n",
    "left = shared_array[4,0:6]\n",
    "left"
   ]
  },
  {
   "cell_type": "code",
   "execution_count": 18,
   "metadata": {},
   "outputs": [
    {
     "data": {
      "text/plain": [
       "array([-1.01815474,  0.19507858,  1.30579948, -0.72618029,  0.01052546,\n",
       "        0.68742364])"
      ]
     },
     "execution_count": 18,
     "metadata": {},
     "output_type": "execute_result"
    }
   ],
   "source": [
    "# right\n",
    "right = shared_array[4,0:6]\n",
    "right"
   ]
  },
  {
   "cell_type": "code",
   "execution_count": 57,
   "metadata": {},
   "outputs": [
    {
     "data": {
      "text/plain": [
       "array([-1.02156448,  0.15725964,  1.30386448, -0.41217157, -0.5944513 ,\n",
       "        0.69046524])"
      ]
     },
     "execution_count": 57,
     "metadata": {},
     "output_type": "execute_result"
    }
   ],
   "source": [
    "# down\n",
    "down = shared_array[4,0:6]\n",
    "down"
   ]
  },
  {
   "cell_type": "code",
   "execution_count": null,
   "metadata": {},
   "outputs": [],
   "source": [
    "# up\n",
    "up = shared_array[4,0:6]\n",
    "up"
   ]
  },
  {
   "cell_type": "code",
   "execution_count": 79,
   "metadata": {},
   "outputs": [],
   "source": [
    "#This part covers testing how the rotation of the body part can be used to control position\n",
    "bodyIdx = 3 # neck\n",
    "import math\n",
    "\n",
    "rotations = np.zeros((1000,3))\n",
    "angles = np.zeros((1000,2))\n",
    "\n",
    "for i in range(rotations.shape[0]):\n",
    "    dz,dx,dy = shared_array[bodyIdx,3:6]\n",
    "    rotations[i,:] = shared_array[bodyIdx,3:6]\n",
    "    #print(shared_array[8,3:6])\n",
    "\n",
    "    # Calculate rotation angles\n",
    "    angleZ = math.atan2(dz, dx)\n",
    "    angleY = math.atan2(dz,dy)\n",
    "    #angleX = math.atan2(dy,dz)\n",
    "\n",
    "\n",
    "    # Convert the angle to degrees\n",
    "    #angleX = math.degrees(angleX)\n",
    "    angleY = math.degrees(angleY) # up down\n",
    "    angleZ = math.degrees(angleZ) # left right\n",
    "\n",
    "    if angleY < 0:\n",
    "        angleY += 360\n",
    "    if angleZ < 0:\n",
    "        angleZ += 360\n",
    "\n",
    "    angles[i,:] = angleY,angleZ\n",
    "    time.sleep(1/120)\n",
    "\n"
   ]
  },
  {
   "cell_type": "code",
   "execution_count": 80,
   "metadata": {},
   "outputs": [
    {
     "name": "stderr",
     "output_type": "stream",
     "text": [
      "/var/folders/bd/_1l03dkj5l11l_q7br4tgzh40000gn/T/ipykernel_86213/2197775052.py:8: MatplotlibDeprecationWarning: savefig() got unexpected keyword argument \"facecolor\" which is no longer supported as of 3.3 and will become an error two minor releases later\n",
      "  plt.savefig(\"DataAnalysis/RotationPlots/rotations_movingNeckLeftRight_gameRange.svg\")\n",
      "/var/folders/bd/_1l03dkj5l11l_q7br4tgzh40000gn/T/ipykernel_86213/2197775052.py:8: MatplotlibDeprecationWarning: savefig() got unexpected keyword argument \"edgecolor\" which is no longer supported as of 3.3 and will become an error two minor releases later\n",
      "  plt.savefig(\"DataAnalysis/RotationPlots/rotations_movingNeckLeftRight_gameRange.svg\")\n",
      "/var/folders/bd/_1l03dkj5l11l_q7br4tgzh40000gn/T/ipykernel_86213/2197775052.py:8: MatplotlibDeprecationWarning: savefig() got unexpected keyword argument \"orientation\" which is no longer supported as of 3.3 and will become an error two minor releases later\n",
      "  plt.savefig(\"DataAnalysis/RotationPlots/rotations_movingNeckLeftRight_gameRange.svg\")\n"
     ]
    },
    {
     "data": {
      "image/png": "[encoded data removed]",
      "text/plain": [
       "<Figure size 640x480 with 1 Axes>"
      ]
     },
     "metadata": {},
     "output_type": "display_data"
    }
   ],
   "source": [
    "\n",
    "\n",
    "plt.plot(rotations[:,0],label = 'idx 0') \n",
    "plt.plot(rotations[:,1], label = 'idx 1') # right left range right around -0.4, left around 0.1, straight around - 0.2\n",
    "plt.plot(rotations[:,2], label = 'idx 2')# up down\n",
    "plt.title(\"Change in rotation components for rotating  neck left and right starting from centre moving right\", fontsize = 15)\n",
    "plt.xlabel(\"Timestamps\", fontsize = 15)\n",
    "plt.ylabel(\"Magnitude\",fontsize = 15)\n",
    "plt.legend()\n",
    "plt.savefig(\"DataAnalysis/RotationPlots/rotations_movingNeckLeftRight_gameRange.svg\")\n",
    "\n",
    "# plt.show()\n",
    "# plt.plot(angles[:,0],label = \"angle Y - up down\")\n",
    "# plt.plot(angles[:,1],label = \"angle Z- left right\")\n",
    "# plt.legend()\n",
    "\n"
   ]
  },
  {
   "cell_type": "code",
   "execution_count": null,
   "metadata": {},
   "outputs": [],
   "source": [
    "# Find correct range\n",
    "minX, maxX, minY, maxY = findSuitableRange(calibrationMatrix,offset,10)\n"
   ]
  },
  {
   "cell_type": "code",
   "execution_count": null,
   "metadata": {},
   "outputs": [],
   "source": [
    "print(minX,maxX,minY,maxY)"
   ]
  },
  {
   "cell_type": "code",
   "execution_count": null,
   "metadata": {},
   "outputs": [],
   "source": [
    "\n",
    "\n",
    "# Record Data\n",
    "print(shared_array[27,:3])\n",
    "startTime = time.perf_counter() * 1000\n",
    "sharedData = preProcessRawData(sharedData=shared_array.copy(), calibrationMatrix=calibrationMatrix,offset=offset)\n",
    "x,y = calcScreenPos(sharedData,minX,maxX,minY,maxY)\n",
    "print(x,y)\n",
    "print(\"Current Time:\", time.perf_counter()*1000 - startTime)\n",
    "print(-sharedData[27,1]) # Z is positive up, y is negative left right"
   ]
  },
  {
   "cell_type": "code",
   "execution_count": null,
   "metadata": {},
   "outputs": [],
   "source": [
    "if False:\n",
    "    # Collect data for 5 minutes \n",
    "    samplingRate = 120\n",
    "    duration = 300\n",
    "    timeFrames = duration * samplingRate\n",
    "    timesTrain = np.zeros(timeFrames)\n",
    "    bodyMovementsTrain = np.zeros((timeFrames,306))\n",
    "    startTime = time.perf_counter() * 1000\n",
    "    cursorPositionsTrain = np.zeros((timeFrames,2))\n",
    "\n",
    "    for time_ in range(timeFrames):\n",
    "        \n",
    "        # Note time when loop finished\n",
    "        passTime = time.perf_counter() * 1000 + 1000/120\n",
    "\n",
    "\n",
    "        # Fetch data\n",
    "        sharedData = preProcessRawData(sharedData=shared_array[:,:6].copy(), calibrationMatrix=calibrationMatrix,offset=offset)\n",
    "\n",
    "        bodyMovementsTrain[time_,:] = sharedData.reshape(1,306)\n",
    "\n",
    "        # Find screen positions\n",
    "        x,y = calcScreenPos(sharedData,minX,maxX,minY,maxY)\n",
    "        cursorPositionsTrain[time_,:] = [x,y]\n",
    "\n",
    "        # Record time\n",
    "        timesTrain[time_] = time.perf_counter() * 1000 - startTime\n",
    "\n",
    "        # Wait until ready to move on\n",
    "        while time.perf_counter() * 1000 < passTime:\n",
    "            time.sleep(1/1000)\n",
    "    simpleBodyParts = [0,1,2,3,4,5,6,7,8,24,25,26,27,43,44,45,47,48,49]\n",
    "    #bodyMovementsTrain = bodyMovementsTrain.reshape(-1,51,6)[:,simpleBodyParts,:].reshape(-1,114)\n",
    "    \n"
   ]
  },
  {
   "cell_type": "code",
   "execution_count": null,
   "metadata": {},
   "outputs": [],
   "source": [
    "if False:\n",
    "    samplingRate = 120\n",
    "    duration = 60\n",
    "    timeFrames = duration * samplingRate\n",
    "    timesTest = np.zeros(timeFrames)\n",
    "    bodyMovementsTest = np.zeros((timeFrames,306))\n",
    "    startTime = time.perf_counter() * 1000\n",
    "    cursorPositionsTest = np.zeros((timeFrames,2))\n",
    "\n",
    "    for time_ in range(timeFrames):\n",
    "        \n",
    "        # Note time when loop finished\n",
    "        passTime = time.perf_counter() * 1000 + 1000/120\n",
    "\n",
    "\n",
    "        # Fetch data\n",
    "        sharedData = preProcessRawData(sharedData=shared_array[:,:6].copy(), calibrationMatrix=calibrationMatrix,offset=offset)\n",
    "\n",
    "        bodyMovementsTest[time_,:] = sharedData.reshape(1,306)\n",
    "\n",
    "        # Find screen positions\n",
    "        x,y = calcScreenPos(sharedData,minX,maxX,minY,maxY)\n",
    "        cursorPositionsTest[time_,:] = [x,y]\n",
    "\n",
    "        # Record time\n",
    "        timesTest[time_] = time.perf_counter() * 1000 - startTime\n",
    "\n",
    "        # Wait until ready to move on\n",
    "        while time.perf_counter() * 1000 < passTime:\n",
    "            time.sleep(1/1000)\n",
    "    simpleBodyParts = [0,1,2,3,4,5,6,7,8,24,25,26,27,43,44,45,47,48,49]\n",
    "    bodyMovementsTest = bodyMovementsTest.reshape(-1,51,6)[:,simpleBodyParts,:].reshape(-1,114)"
   ]
  },
  {
   "cell_type": "code",
   "execution_count": null,
   "metadata": {},
   "outputs": [],
   "source": [
    "#save all Files\n",
    "np.savez(\"trainingDataNoGame.npz\", cursorPositionsTrain = cursorPositionsTrain,bodyMovementsTrain = bodyMovementsTrain, timesTrain = timesTrain)\n",
    "np.savez(\"testDataNoGame.npz\", cursorPositionsTest = cursorPositionsTest,bodyMovementsTest = bodyMovementsTest, timesTest = timesTest)"
   ]
  },
  {
   "cell_type": "code",
   "execution_count": null,
   "metadata": {},
   "outputs": [],
   "source": [
    "# Function to convert body movements\n",
    "simpleBodyParts = [0,1,2,3,4,5,6,7,8,24,25,26,27,43,44,45,47,48,49]\n",
    "#bodyMovementsTrain = bodyMovementsTrain.reshape(-1,51,6)[:,simpleBodyParts,:].reshape(-1,114)\n",
    "#bodyMovementsTest = bodyMovementsTest.reshape(-1,51,6)[:,simpleBodyParts,:].reshape(-1,114)\n",
    "print(bodyMovementsTest.shape)"
   ]
  },
  {
   "cell_type": "code",
   "execution_count": null,
   "metadata": {},
   "outputs": [],
   "source": [
    "# Perform linear regression\n",
    "from sklearn import linear_model\n",
    "\n",
    "\n",
    "# First find decoder A\n",
    "type = 'A'\n",
    "idxRightHand = renderingBodyParts.index('RHand') * 6\n",
    "X_train = np.delete(bodyMovementsTrain,slice(idxRightHand,idxRightHand+6,1),1)\n",
    "X_test_linear = np.delete(bodyMovementsTest,slice(idxRightHand,idxRightHand+6,1),1)\n",
    "\n",
    "#Model\n",
    "regA  = linear_model.LinearRegression().fit(X_train, cursorPositionsTrain)\n",
    "scoreA = regA.score(X_test_linear ,cursorPositionsTest)\n",
    "\n",
    "\n",
    "# Next find decoder B\n",
    "type = 'B'\n",
    "idxRightHand = renderingBodyParts.index('RHand') * 6\n",
    "idxRightShoulder = renderingBodyParts.index('RShoulder') * 6\n",
    "X_train = np.delete(bodyMovementsTrain,slice(idxRightShoulder,idxRightHand+6,1),1)\n",
    "X_test_linear = np.delete(bodyMovementsTest,slice(idxRightShoulder,idxRightHand+6,1),1)\n",
    "\n",
    "#Model\n",
    "regB  = linear_model.LinearRegression().fit(X_train, cursorPositionsTrain)\n",
    "scoreB = regB.score(X_test_linear ,cursorPositionsTest)\n",
    "\n",
    "# Next find decoder C\n",
    "# only  the left hand\n",
    "type = 'C'\n",
    "idxLeftHand = renderingBodyParts.index('LHand') * 6\n",
    "X_train = bodyMovementsTrain[:,idxLeftHand:idxLeftHand+6]\n",
    "X_test_linear = bodyMovementsTest[:,idxLeftHand:idxLeftHand+6]\n",
    "\n",
    "#Model\n",
    "regC  = linear_model.LinearRegression().fit(X_train, cursorPositionsTrain)\n",
    "scoreC = regC.score(X_test_linear ,cursorPositionsTest) \n",
    "\n",
    "#Next find decoder D ( right hand control)\n",
    "type = 'D'\n",
    "idxRightHand = renderingBodyParts.index('RHand') * 6\n",
    "X_train = bodyMovementsTrain[:,idxRightHand:idxRightHand+6]\n",
    "X_test_linear = bodyMovementsTest[:,idxRightHand:idxRightHand+6]\n",
    "\n",
    "\n",
    "#Model\n",
    "regD  = linear_model.LinearRegression().fit(X_train, cursorPositionsTrain)\n",
    "scoreD = regD.score(X_test_linear ,cursorPositionsTest)"
   ]
  },
  {
   "cell_type": "code",
   "execution_count": null,
   "metadata": {},
   "outputs": [],
   "source": [
    "scoreA,scoreB,scoreC,scoreD"
   ]
  },
  {
   "cell_type": "code",
   "execution_count": null,
   "metadata": {},
   "outputs": [],
   "source": [
    "def decodeScreenMovements(decoder,reg,sharedData):\n",
    "    # First process input (i.e. remove unnecessary data)\n",
    "    simpleBodyParts = [0,1,2,3,4,5,6,7,8,24,25,26,27,43,44,45,47,48,49]\n",
    "    sharedData = sharedData[simpleBodyParts,:6].reshape(114)\n",
    "    if decoder == \"A\":\n",
    "        idxRightHand = renderingBodyParts.index('RHand') * 6\n",
    "        sharedData_ = np.delete(sharedData,slice(idxRightHand,idxRightHand+6,1),0)\n",
    "    elif decoder == \"B\":\n",
    "        idxRightHand = renderingBodyParts.index('RHand') * 6\n",
    "        idxRightShoulder = renderingBodyParts.index('RShoulder') * 6\n",
    "        sharedData_ = np.delete(sharedData,slice(idxRightShoulder,idxRightHand+6,1),0)\n",
    "    elif decoder == \"C\":\n",
    "        idxLeftHand = renderingBodyParts.index('LHand') * 6\n",
    "        sharedData_ = sharedData[idxLeftHand:idxLeftHand+6]\n",
    "    \n",
    "    elif decoder == \"D\":\n",
    "        idxRightHand = renderingBodyParts.index('RHand') * 6\n",
    "        sharedData_ = sharedData[idxRightHand:idxRightHand+6]\n",
    "\n",
    "    return reg.predict(sharedData_.reshape(1,-1))[0]\n"
   ]
  },
  {
   "cell_type": "code",
   "execution_count": null,
   "metadata": {},
   "outputs": [],
   "source": [
    "if True:\n",
    "    # Use decoder\n",
    "    samplingRate = 120\n",
    "    decoder = \"D\"\n",
    "    reg = regD\n",
    "\n",
    "    duration = 120\n",
    "    timeFrames = duration * samplingRate\n",
    "    timesDecoder = np.zeros(timeFrames)\n",
    "    bodyMovementsDecoder = np.zeros((timeFrames,306))\n",
    "    startTime = time.perf_counter() * 1000\n",
    "    cursorPositionsDecoder = np.zeros((timeFrames,2))\n",
    "\n",
    "    for time_ in range(timeFrames):\n",
    "        \n",
    "        # Note time when loop finished\n",
    "        passTime = time.perf_counter() * 1000 + 1000/120\n",
    "\n",
    "\n",
    "        # Fetch data\n",
    "        sharedData = preProcessRawData(sharedData=shared_array[:,:6].copy(), calibrationMatrix=calibrationMatrix,offset=offset)\n",
    "        bodyMovementsDecoder[time_,:] = sharedData.reshape(1,306)\n",
    "        # \n",
    "       \n",
    "        # Find screen positions\n",
    "        x,y = decodeScreenMovements(decoder,reg,sharedData)\n",
    "        print(x,y)\n",
    "        cursorPositionsDecoder[time_,:] = [x,y]\n",
    "\n",
    "        # Record time\n",
    "        timesDecoder[time_] = time.perf_counter() * 1000 - startTime\n",
    "\n",
    "        # Wait until ready to move on\n",
    "        while time.perf_counter() * 1000 < passTime:\n",
    "            time.sleep(1/1000)\n",
    "    simpleBodyParts = [0,1,2,3,4,5,6,7,8,24,25,26,27,43,44,45,47,48,49]\n",
    "    #bodyMovementsTrain = bodyMovementsTrain.reshape(-1,51,6)[:,simpleBodyParts,:].reshape(-1,114)\n",
    "    \n"
   ]
  }
 ],
 "metadata": {
  "kernelspec": {
   "display_name": "Python 3",
   "language": "python",
   "name": "python3"
  },
  "language_info": {
   "codemirror_mode": {
    "name": "ipython",
    "version": 3
   },
   "file_extension": ".py",
   "mimetype": "text/x-python",
   "name": "python",
   "nbconvert_exporter": "python",
   "pygments_lexer": "ipython3",
   "version": "3.11.5"
  }
 },
 "nbformat": 4,
 "nbformat_minor": 2
}
